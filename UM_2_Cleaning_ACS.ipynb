{
 "cells": [
  {
   "cell_type": "code",
   "execution_count": 3,
   "metadata": {
    "collapsed": false
   },
   "outputs": [
    {
     "name": "stdout",
     "output_type": "stream",
     "text": [
      "Populating the interactive namespace from numpy and matplotlib\n"
     ]
    }
   ],
   "source": [
    "import sys\n",
    "import os\n",
    "import pandas as pd\n",
    "\n",
    "import numpy as np\n",
    "import seaborn as sns\n",
    "\n",
    "import pylab as pl\n",
    "%pylab inline"
   ]
  },
  {
   "cell_type": "code",
   "execution_count": 4,
   "metadata": {
    "collapsed": true
   },
   "outputs": [],
   "source": [
    "workfolder = os.getenv('Projects') + '/Uber_market'\n",
    "os.chdir(workfolder)"
   ]
  },
  {
   "cell_type": "code",
   "execution_count": 5,
   "metadata": {
    "collapsed": false
   },
   "outputs": [],
   "source": [
    "#Import Census Tract - Community District correspondence\n",
    "ct_nta = pd.read_csv('Data/Non538_Input/ct_cd_corresp2.csv').rename(columns={'tract_fips_10': 'GEOID'})\n",
    "ct_nta.GEOID = ct_nta.GEOID.astype(str).str[:-2]"
   ]
  },
  {
   "cell_type": "markdown",
   "metadata": {},
   "source": [
    "## I - Education\n",
    "### 1 - Import & slice"
   ]
  },
  {
   "cell_type": "code",
   "execution_count": 6,
   "metadata": {
    "collapsed": false
   },
   "outputs": [],
   "source": [
    "#Import ACS data on education\n",
    "acs2 = pd.read_csv('Data/Non538_Input/Census/ACS_13_5YR_B15003_with_ann.csv')\n",
    "acs2 = acs2.loc[acs2['GEO.id'] != 'Id']\n",
    "\n",
    "#Select columns\n",
    "cols = [c for c in acs2.columns if c[:3] != 'GEO']\n",
    "acs2[cols] = acs2[cols].apply(pd.to_numeric)"
   ]
  },
  {
   "cell_type": "code",
   "execution_count": 7,
   "metadata": {
    "collapsed": false
   },
   "outputs": [],
   "source": [
    "#Rename columns\n",
    "for i in range(0,14):\n",
    "    if i < 8:\n",
    "        acs2['educ_{}'.format(i)] = acs2['HD01_VD0{}'.format(i+2)]\n",
    "    else:\n",
    "        acs2['educ_{}'.format(i)] = acs2['HD01_VD{}'.format(i+2)]\n",
    "\n",
    "acs2['educ_13.5'] = acs2['HD01_VD16']\n",
    "acs2['educ_14'] = acs2['HD01_VD17'] + acs2['HD01_VD18']\n",
    "acs2['educ_14.5'] = acs2['HD01_VD19']\n",
    "\n",
    "for i in [15,16]:\n",
    "    acs2['educ_{}'.format(i)] = acs2['HD01_VD{}'.format(i+5)]\n",
    "\n",
    "acs2['educ_18'] = acs2['HD01_VD22']\n",
    "acs2['educ_20'] = acs2['HD01_VD23'] + acs2['HD01_VD24']\n",
    "acs2['educ_23'] = acs2['HD01_VD25']\n",
    "\n",
    "acs2['tot_educ'] = acs2['HD01_VD01']"
   ]
  },
  {
   "cell_type": "code",
   "execution_count": 8,
   "metadata": {
    "collapsed": false
   },
   "outputs": [
    {
     "data": {
      "text/plain": [
       "True    2167\n",
       "dtype: int64"
      ]
     },
     "execution_count": 8,
     "metadata": {},
     "output_type": "execute_result"
    }
   ],
   "source": [
    "#Discrepancy between sum of columns and total number\n",
    "(acs2[[c for c in acs2.columns if c[:3] == 'edu']].sum(axis=1) - acs2['tot_educ'] == 0).value_counts()"
   ]
  },
  {
   "cell_type": "markdown",
   "metadata": {},
   "source": [
    "### 2 - Compute shares"
   ]
  },
  {
   "cell_type": "code",
   "execution_count": 9,
   "metadata": {
    "collapsed": false
   },
   "outputs": [],
   "source": [
    "#Rename columns\n",
    "acs2b = acs2[['GEO.id2', 'GEO.display-label', 'tot_educ'] + \n",
    "             [c for c in acs2.columns if c[:4] == 'educ']].rename(columns={'GEO.id2': 'GEOID'})\n",
    "\n",
    "#Share of each education category\n",
    "for var in [c for c in acs2b.columns if c[:4] == 'educ']:\n",
    "    acs2b['r{}'.format(var)] = acs2b['{}'.format(var)]/acs2b['tot_educ']\n",
    "\n",
    "#Add geolocal information\n",
    "acs2b = acs2b.merge(ct_nta[['NTACode', 'GEOID']], on='GEOID', how='left')"
   ]
  },
  {
   "cell_type": "code",
   "execution_count": 10,
   "metadata": {
    "collapsed": false
   },
   "outputs": [],
   "source": [
    "acs2b.to_csv('Data/Output/acs_educ.csv')"
   ]
  },
  {
   "cell_type": "markdown",
   "metadata": {},
   "source": [
    "## II - Income\n",
    "### 1 - Import & slice"
   ]
  },
  {
   "cell_type": "code",
   "execution_count": 11,
   "metadata": {
    "collapsed": true
   },
   "outputs": [],
   "source": [
    "#Import Income data\n",
    "acs5 = pd.read_csv('Data/Non538_Input/Census/ACS_13_5YR_B19001_with_ann.csv')"
   ]
  },
  {
   "cell_type": "code",
   "execution_count": 12,
   "metadata": {
    "collapsed": false
   },
   "outputs": [
    {
     "name": "stderr",
     "output_type": "stream",
     "text": [
      "/Users/arnoamabile/anaconda/lib/python2.7/site-packages/ipykernel/__main__.py:7: FutureWarning: convert_objects is deprecated.  Use the data-type specific converters pd.to_datetime, pd.to_timedelta and pd.to_numeric.\n"
     ]
    }
   ],
   "source": [
    "#Select columns\n",
    "brackets = ['hh_tot', 'inc10', 'inc15', 'inc20', 'inc25', 'inc30', 'inc35', 'inc40', 'inc45',\n",
    "            'inc50', 'inc60', 'inc75', 'inc100', 'inc125', 'inc150', 'inc200', 'inc200+']\n",
    "cols = [c for c in acs5.columns if c[2:4] == '01']\n",
    "\n",
    "#Convert to numeric\n",
    "acs5[brackets] = acs5[cols].convert_objects(convert_numeric=True)\n",
    "acs5 = acs5.loc[(acs5['GEO.id'] != 'Id') & (acs5.hh_tot != 0)]\n",
    "\n",
    "#Rename columns\n",
    "acs5b = acs5[['GEO.id2', 'GEO.display-label'] + brackets].rename(columns={'GEO.id2': 'GEOID'})"
   ]
  },
  {
   "cell_type": "markdown",
   "metadata": {},
   "source": [
    "### 2 - Compute shares"
   ]
  },
  {
   "cell_type": "code",
   "execution_count": 13,
   "metadata": {
    "collapsed": false
   },
   "outputs": [],
   "source": [
    "#Compute share of each bracket population\n",
    "for var in [c for c in acs5b.columns if c[:3] == 'inc']:\n",
    "    acs5b.loc[:,'r{}'.format(var)] = acs5b.loc[:,'{}'.format(var)]/acs5b.loc[:,'hh_tot']\n",
    "\n",
    "#Add geolocal information\n",
    "acs5b = acs5b.merge(ct_nta[['NTACode', 'GEOID']], on='GEOID', how='left')"
   ]
  },
  {
   "cell_type": "code",
   "execution_count": 14,
   "metadata": {
    "collapsed": false
   },
   "outputs": [],
   "source": [
    "acs5b.to_csv('Data/Output/acs_inc.csv')"
   ]
  },
  {
   "cell_type": "markdown",
   "metadata": {},
   "source": [
    "## III - Age\n",
    "### 1 - Import & slice"
   ]
  },
  {
   "cell_type": "code",
   "execution_count": 16,
   "metadata": {
    "collapsed": false
   },
   "outputs": [],
   "source": [
    "#Import Age Census data\n",
    "acs11 = pd.read_csv('Data/Non538_Input/Census/ACS_13_5YR_S0101_with_ann.csv')"
   ]
  },
  {
   "cell_type": "code",
   "execution_count": 17,
   "metadata": {
    "collapsed": false
   },
   "outputs": [
    {
     "name": "stderr",
     "output_type": "stream",
     "text": [
      "/Users/arnoamabile/anaconda/lib/python2.7/site-packages/ipykernel/__main__.py:3: FutureWarning: convert_objects is deprecated.  Use the data-type specific converters pd.to_datetime, pd.to_timedelta and pd.to_numeric.\n",
      "  app.launch_new_instance()\n"
     ]
    }
   ],
   "source": [
    "#Rename columns\n",
    "cols = [c for c in acs11.columns if c != 'GEO.id2']\n",
    "acs11[cols] = acs11[cols].convert_objects(convert_numeric=True)\n",
    "acs11 = acs11.rename(columns = {'HC01_EST_VC01': 'tot_pop'})\n",
    "acs11 = acs11.loc[(acs11['GEO.id'] != 'Id') & (acs11.tot_pop != 0)]\n",
    "\n",
    "#Rename columns\n",
    "acs11['male'], acs11['female'] = acs11['HC02_EST_VC01'], acs11['HC03_EST_VC01']\n",
    "acs11['rmale'], acs11['rfemale'] = acs11['male']/acs11.tot_pop, acs11['female']/acs11.tot_pop"
   ]
  },
  {
   "cell_type": "markdown",
   "metadata": {},
   "source": [
    "### 2 - Compute shares"
   ]
  },
  {
   "cell_type": "code",
   "execution_count": 18,
   "metadata": {
    "collapsed": true
   },
   "outputs": [],
   "source": [
    "#Compute share of each bracket\n",
    "for i in range(3,21):\n",
    "    if i < 10:\n",
    "        acs11['rage_ud{}'.format(4 + 5*(i-3))] = acs11['HC01_EST_VC0{}'.format(i)]/100\n",
    "    else:\n",
    "        acs11['rage_ud{}'.format(4 + 5*(i-3))] = acs11['HC01_EST_VC{}'.format(i)]/100\n",
    "    acs11['age_ud{}'.format(4 + 5*(i-3))] = acs11['rage_ud{}'.format(4 + 5*(i-3))]*acs11['tot_pop']\n",
    "\n",
    "acs11 = acs11.rename(columns={'age_ud89': 'age_ov85','rage_ud89':'rage_ov85'})\n",
    "\n",
    "#Rename columns\n",
    "acs11 = acs11[['GEO.id2', 'tot_pop', 'male', 'female'] + [c for c in acs11.columns if c[:3] == 'age'] + \n",
    "              [c for c in acs11.columns if c[0] == 'r']].rename(columns={'GEO.id2': 'GEOID'})"
   ]
  },
  {
   "cell_type": "code",
   "execution_count": 19,
   "metadata": {
    "collapsed": true
   },
   "outputs": [],
   "source": [
    "#Add geolocal information\n",
    "acs11b = acs11.merge(ct_nta[['NTACode', 'GEOID']], on='GEOID', how='left')"
   ]
  },
  {
   "cell_type": "code",
   "execution_count": 21,
   "metadata": {
    "collapsed": false
   },
   "outputs": [],
   "source": [
    "acs11b.to_csv('Data/Output/acs_age.csv')"
   ]
  }
 ],
 "metadata": {
  "kernelspec": {
   "display_name": "Python 2",
   "language": "python",
   "name": "python2"
  },
  "language_info": {
   "codemirror_mode": {
    "name": "ipython",
    "version": 2
   },
   "file_extension": ".py",
   "mimetype": "text/x-python",
   "name": "python",
   "nbconvert_exporter": "python",
   "pygments_lexer": "ipython2",
   "version": "2.7.13"
  }
 },
 "nbformat": 4,
 "nbformat_minor": 0
}
