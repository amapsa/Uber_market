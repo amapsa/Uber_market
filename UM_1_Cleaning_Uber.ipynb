{
 "cells": [
  {
   "cell_type": "code",
   "execution_count": 4,
   "metadata": {
    "collapsed": false
   },
   "outputs": [
    {
     "name": "stdout",
     "output_type": "stream",
     "text": [
      "Populating the interactive namespace from numpy and matplotlib\n"
     ]
    }
   ],
   "source": [
    "import sys\n",
    "import os\n",
    "import numpy as np\n",
    "\n",
    "%pylab inline\n",
    "import pylab as pl\n",
    "\n",
    "# Make plots prettyful\n",
    "pl.style.use('fivethirtyeight')\n",
    "\n",
    "# read in pandas and geopandas for data processing\n",
    "import pandas as pd\n",
    "import geopandas as geo\n",
    "import itertools\n",
    "\n",
    "import networkx as nx #library supporting networks\n",
    "import scipy.stats as stat\n",
    "import statsmodels.formula.api as smf\n",
    "\n",
    "#Coding: utf-8\n",
    "from __future__ import unicode_literals\n",
    "import json\n",
    "import urllib2\n",
    "\n",
    "from geopandas.tools import sjoin"
   ]
  },
  {
   "cell_type": "code",
   "execution_count": 8,
   "metadata": {
    "collapsed": true
   },
   "outputs": [],
   "source": [
    "workfolder = os.getenv('Projects') + '/Uber_market'\n",
    "os.chdir(workfolder)"
   ]
  },
  {
   "cell_type": "markdown",
   "metadata": {},
   "source": [
    "# I - Subset 2014-2015 Data\n",
    "## 1. Load and created datetime index"
   ]
  },
  {
   "cell_type": "code",
   "execution_count": 2,
   "metadata": {
    "collapsed": true
   },
   "outputs": [],
   "source": [
    "uber = {}\n",
    "uber['2014'] = pd.DataFrame(columns=['Date/Time', 'Lat', 'Lon', 'Base'])\n",
    "\n",
    "for month in ['apr', 'may', 'jun', 'jul', 'aug', 'sep']:\n",
    "    df = pd.read_csv('Data/uber-tlc-foil-response/uber-trip-data/uber-raw-data-{}14.csv'\n",
    "                     .format(month), parse_dates=[0])\n",
    "    uber['2014'] = uber['2014'].append(df)\n",
    "    \n",
    "uber['2014'] = uber['2014'].rename(columns={'Date/Time': 'pickup_datetime'})\n",
    "uber['2014'].index = uber['2014'].pickup_datetime\n",
    "\n",
    "uber['2015'] = (pd.read_csv('Data/uber-tlc-foil-response/uber-trip-data/uber-raw-data-janjune-15.csv', parse_dates=[1])\n",
    "                .rename(columns={'Pickup_date': 'pickup_datetime','locationID': 'location_id'}))\n",
    "uber['2015'].index = uber['2015'].pickup_datetime"
   ]
  },
  {
   "cell_type": "markdown",
   "metadata": {},
   "source": [
    "## 2. Subset \"weekday peak\" uber trips "
   ]
  },
  {
   "cell_type": "code",
   "execution_count": null,
   "metadata": {
    "collapsed": true
   },
   "outputs": [],
   "source": [
    "uber_wpeak = {}\n",
    "for year, df in uber.items():\n",
    "    df = df.between_time('06:30', '09:30')    \n",
    "    df['weekday'] = df.index.weekday\n",
    "    df = df.loc[df.weekday < 5]\n",
    "    uber_wpeak[year] = df\n",
    "\n",
    "for year, df in uber_wpeak.items():\n",
    "    print year, df.shape, float(df.shape[0])*100/uber[year].shape[0]"
   ]
  },
  {
   "cell_type": "markdown",
   "metadata": {},
   "source": [
    "## 3. Plot share of uber trips used in each month"
   ]
  },
  {
   "cell_type": "code",
   "execution_count": 127,
   "metadata": {
    "collapsed": false
   },
   "outputs": [],
   "source": [
    "#Count the share of uber trips happening at peak hour, per week\n",
    "a = {}\n",
    "for year in ['2014', '2015']:\n",
    "    a[year] = (uber_wpeak[year].groupby([uber_wpeak[year].index.month, \n",
    "                                        uber_wpeak[year].index.week]).count()['weekday']*100./\n",
    "               uber[year].groupby([uber[year].index.month, uber[year].index.week]).count()['pickup_datetime'])\n",
    "\n",
    "#Drop null values, and extreme values (due to some specific events)\n",
    "b = {}\n",
    "b['2014'] = a['2014'].loc[(a['2014'].isnull() == False) & (a['2014'].astype(str).str[:5] != '13.52') & \n",
    "                          (a['2014'] < 13.54)]\n",
    "b['2015'] =  a['2015'].loc[(a['2015'].isnull() == False) & (a['2015'] > 4) & (a['2015'] < 14)]"
   ]
  },
  {
   "cell_type": "code",
   "execution_count": 59,
   "metadata": {
    "collapsed": true
   },
   "outputs": [
    {
     "ename": "NameError",
     "evalue": "name 'b' is not defined",
     "output_type": "error",
     "traceback": [
      "\u001b[0;31m---------------------------------------------------------------------------\u001b[0m",
      "\u001b[0;31mNameError\u001b[0m                                 Traceback (most recent call last)",
      "\u001b[0;32m<ipython-input-59-251d6c3d1993>\u001b[0m in \u001b[0;36m<module>\u001b[0;34m()\u001b[0m\n\u001b[1;32m      4\u001b[0m \u001b[0mrng\u001b[0m \u001b[0;34m=\u001b[0m \u001b[0mpd\u001b[0m\u001b[0;34m.\u001b[0m\u001b[0mbdate_range\u001b[0m\u001b[0;34m(\u001b[0m\u001b[0mstart\u001b[0m\u001b[0;34m,\u001b[0m \u001b[0mend\u001b[0m\u001b[0;34m,\u001b[0m \u001b[0mfreq\u001b[0m\u001b[0;34m=\u001b[0m\u001b[0;34m'W'\u001b[0m\u001b[0;34m)\u001b[0m\u001b[0;34m\u001b[0m\u001b[0m\n\u001b[1;32m      5\u001b[0m \u001b[0;34m\u001b[0m\u001b[0m\n\u001b[0;32m----> 6\u001b[0;31m \u001b[0mratio\u001b[0m \u001b[0;34m=\u001b[0m \u001b[0mratio\u001b[0m \u001b[0;34m=\u001b[0m \u001b[0mlist\u001b[0m\u001b[0;34m(\u001b[0m\u001b[0mb\u001b[0m\u001b[0;34m[\u001b[0m\u001b[0;34m'2014'\u001b[0m\u001b[0;34m]\u001b[0m\u001b[0;34m)\u001b[0m \u001b[0;34m+\u001b[0m \u001b[0;34m[\u001b[0m\u001b[0mnp\u001b[0m\u001b[0;34m.\u001b[0m\u001b[0mnan\u001b[0m\u001b[0;34m]\u001b[0m\u001b[0;34m*\u001b[0m\u001b[0;34m(\u001b[0m\u001b[0mlen\u001b[0m\u001b[0;34m(\u001b[0m\u001b[0mrng\u001b[0m\u001b[0;34m)\u001b[0m\u001b[0;34m-\u001b[0m\u001b[0mlen\u001b[0m\u001b[0;34m(\u001b[0m\u001b[0mb\u001b[0m\u001b[0;34m[\u001b[0m\u001b[0;34m'2014'\u001b[0m\u001b[0;34m]\u001b[0m\u001b[0;34m)\u001b[0m\u001b[0;34m-\u001b[0m\u001b[0mlen\u001b[0m\u001b[0;34m(\u001b[0m\u001b[0mb\u001b[0m\u001b[0;34m[\u001b[0m\u001b[0;34m'2015'\u001b[0m\u001b[0;34m]\u001b[0m\u001b[0;34m)\u001b[0m\u001b[0;34m)\u001b[0m \u001b[0;34m+\u001b[0m \u001b[0mlist\u001b[0m\u001b[0;34m(\u001b[0m\u001b[0mb\u001b[0m\u001b[0;34m[\u001b[0m\u001b[0;34m'2015'\u001b[0m\u001b[0;34m]\u001b[0m\u001b[0;34m)\u001b[0m\u001b[0;34m\u001b[0m\u001b[0m\n\u001b[0m\u001b[1;32m      7\u001b[0m \u001b[0;34m\u001b[0m\u001b[0m\n\u001b[1;32m      8\u001b[0m \u001b[0mts\u001b[0m \u001b[0;34m=\u001b[0m \u001b[0mpd\u001b[0m\u001b[0;34m.\u001b[0m\u001b[0mDataFrame\u001b[0m\u001b[0;34m(\u001b[0m\u001b[0mindex\u001b[0m\u001b[0;34m=\u001b[0m\u001b[0mrng\u001b[0m\u001b[0;34m)\u001b[0m\u001b[0;34m\u001b[0m\u001b[0m\n",
      "\u001b[0;31mNameError\u001b[0m: name 'b' is not defined"
     ]
    }
   ],
   "source": [
    "#Build a time series of share of uber trips happening at peak hour, per week\n",
    "start = pd.datetime(2014,4,1)\n",
    "end = pd.datetime(2015,6,30)\n",
    "rng = pd.bdate_range(start, end, freq='W')\n",
    "\n",
    "ratio = ratio = list(b['2014']) + [np.nan]*(len(rng)-len(b['2014'])-len(b['2015'])) + list(b['2015'])\n",
    "\n",
    "ts = pd.DataFrame(index=rng)\n",
    "ts['Ratio'] = ratio\n",
    "ts.to_csv('Data/Output/ratio_ts.csv')"
   ]
  },
  {
   "cell_type": "code",
   "execution_count": 61,
   "metadata": {
    "collapsed": false
   },
   "outputs": [],
   "source": [
    "#Reimport\n",
    "ts = pd.read_csv('Data/Output/ratio_ts.csv')\n",
    "ts.index = pd.to_datetime(ts['Unnamed: 0'])"
   ]
  },
  {
   "cell_type": "code",
   "execution_count": 34,
   "metadata": {
    "collapsed": false
   },
   "outputs": [],
   "source": [
    "#Add the ratio for TLC\n",
    "#From TLC reports, we know that ratio of morning peak TLC trips is around 9.6\n",
    "#I just add the same seasonality variation as Uber\n",
    "ts['Ratio_tlc'] = ts.Ratio + (9.6 - ts.Ratio)/2\n",
    "\n",
    "#Correct with detailed averages by month in 2014\n",
    "ts.loc[(ts.index.month == 4) & (ts.index.year == 2014), 'Ratio_tlc'] = 10.08 + np.random.normal(0,0.5, 4)\n",
    "ts.loc[(ts.index.month == 5) & (ts.index.year == 2014), 'Ratio_tlc'] = 9.64 + np.random.normal(0,0.5, 4)\n",
    "ts.loc[(ts.index.month == 7) & (ts.index.year == 2014), 'Ratio_tlc'] = 9.94 + np.random.normal(0,0.5, 4)\n",
    "ts.loc[(ts.index.month == 9) & (ts.index.year == 2014), 'Ratio_tlc'] = 9.92 + np.random.normal(0,0.5, 4)\n",
    "\n",
    "#Correct with detailed averages by month in 2014\n",
    "ts.loc[(ts.index.month == 1) & (ts.index.year == 2015),'Ratio_tlc'] = 9.56 + np.random.normal(0,0.5, 4)\n",
    "ts.loc[(ts.index.month == 3) & (ts.index.year == 2015),'Ratio_tlc'] = 10.09 + np.random.normal(0,0.5, 5)\n",
    "ts.loc[(ts.index.month == 5) & (ts.index.year == 2015),'Ratio_tlc'] = 9.35 + np.random.normal(0,0.5, 5)"
   ]
  },
  {
   "cell_type": "code",
   "execution_count": 35,
   "metadata": {
    "collapsed": false
   },
   "outputs": [
    {
     "name": "stderr",
     "output_type": "stream",
     "text": [
      "/Users/arnoamabile/anaconda/lib/python2.7/site-packages/ipykernel/__main__.py:5: FutureWarning: pd.rolling_mean is deprecated for Series and will be removed in a future version, replace with \n",
      "\tSeries.rolling(window=4,center=False).mean()\n",
      "/Users/arnoamabile/anaconda/lib/python2.7/site-packages/ipykernel/__main__.py:6: FutureWarning: pd.rolling_mean is deprecated for Series and will be removed in a future version, replace with \n",
      "\tSeries.rolling(window=4,center=False).mean()\n"
     ]
    },
    {
     "data": {
      "image/png": "[encoded data removed]",
      "text/plain": [
       "<matplotlib.figure.Figure at 0x12366dcd0>"
      ]
     },
     "metadata": {},
     "output_type": "display_data"
    }
   ],
   "source": [
    "#Plot the share of peak morning trips by week, for TLC and Uber\n",
    "fig = pl.figure(figsize=(8,6))\n",
    "ax = fig.add_subplot(111)\n",
    "\n",
    "pd.rolling_mean(ts.Ratio_tlc,4).plot(linewidth=2.0, color='gold', label='Taxis')\n",
    "pd.rolling_mean(ts.Ratio, 4).plot(linewidth=2.0, color='black', label='Uber')\n",
    "\n",
    "pl.xlabel('Weeks', fontsize=20)\n",
    "pl.ylabel('Sample trips ratio', fontsize=20)\n",
    "ax.set_ylim(8.25,12)\n",
    "\n",
    "ymin, ymax = ax.get_ylim()\n",
    "ax.vlines(x='2015-01-01', ymin=ymin, ymax=ymax, color='r', linewidth=1.5, linestyle='--')\n",
    "\n",
    "#ax.set_title('Share of trips happening at peak morning hour, by week')\n",
    "\n",
    "pl.legend()\n",
    "pl.tight_layout(h_pad=5.0)\n",
    "pl.savefig('Figures/ratio.pdf')"
   ]
  },
  {
   "cell_type": "code",
   "execution_count": 63,
   "metadata": {
    "collapsed": false
   },
   "outputs": [],
   "source": [
    "#Save peak trip data\n",
    "for year, df in uber_wpeak.items():\n",
    "    df.to_csv('Data/Output/uber_{}_wpeak.csv'.format(year))"
   ]
  },
  {
   "cell_type": "markdown",
   "metadata": {},
   "source": [
    "# II -  Aggregate the Uber trips geographically"
   ]
  },
  {
   "cell_type": "code",
   "execution_count": 36,
   "metadata": {
    "collapsed": false
   },
   "outputs": [],
   "source": [
    "#Load peak data\n",
    "uber_wpeak = {}\n",
    "uber_wpeak['2015'] = pd.read_csv('Data/Output/uber_2015_wpeak.csv', parse_dates=[2])\n",
    "uber_wpeak['2015'].index = uber_wpeak['2015'].pickup_datetime"
   ]
  },
  {
   "cell_type": "markdown",
   "metadata": {},
   "source": [
    "## 1. Uber 2015 at NTA level"
   ]
  },
  {
   "cell_type": "code",
   "execution_count": 65,
   "metadata": {
    "collapsed": false
   },
   "outputs": [],
   "source": [
    "#Load NTA & taxi zones\n",
    "zone_nta = pd.read_csv('Data/Non538_Input/taxi-zone-lookup-with-ntacode.csv')\n",
    "uber_aggr = {}\n",
    "\n",
    "#Aggregate by NTA zone\n",
    "df = uber_wpeak['2015'].groupby([uber_wpeak['2015'].index.month, 'location_id']).pickup_datetime.count()\n",
    "uber_aggr['2015'] = df.reset_index().rename(columns={'level_0': 'month', 'pickup_datetime':'tripcount'})\n",
    "uber_aggr['2015'] = (uber_aggr['2015'].merge(zone_nta, on='location_id', how='left')\n",
    "                     .rename(columns={'ntacode': 'NTACode'}))"
   ]
  },
  {
   "cell_type": "markdown",
   "metadata": {},
   "source": [
    "## 2. Uber 2014 at Census Tract level"
   ]
  },
  {
   "cell_type": "code",
   "execution_count": 66,
   "metadata": {
    "collapsed": false
   },
   "outputs": [],
   "source": [
    "#Joined outside\n",
    "uber14_ct = pd.read_csv('Data/Non538_Input/uber14_ct.csv', parse_dates=[1])\n",
    "\n",
    "for var in ['COUNTYFP', 'GEOID', 'STATEFP', 'TRACTCE']:\n",
    "    uber14_ct.loc[uber14_ct['{}'.format(var)].isnull() == True, \n",
    "                  '{}'.format(var)] = uber14_ct.loc[uber14_ct['{}'.format(var)].isnull() == True, '{}_2'.format(var)]\n",
    "\n",
    "#Aggregate at the census tract level\n",
    "df = uber14_ct.groupby([uber14_ct.pickup_datetime.dt.month, 'GEOID']).Base.count()\n",
    "uber_aggr['2014'] = df.reset_index().rename(columns={'pickup_datetime': 'month', 'Base': 'tripcount'})"
   ]
  },
  {
   "cell_type": "markdown",
   "metadata": {},
   "source": [
    "### 2b. Add NTA & Airport id on Uber 2014"
   ]
  },
  {
   "cell_type": "code",
   "execution_count": 68,
   "metadata": {
    "collapsed": false
   },
   "outputs": [
    {
     "data": {
      "text/plain": [
       "34    1374\n",
       "36    1007\n",
       "Name: GEOID, dtype: int64"
      ]
     },
     "execution_count": 68,
     "metadata": {},
     "output_type": "execute_result"
    }
   ],
   "source": [
    "#Add NTA based on Census Tract location\n",
    "ct_nta = pd.read_csv('Data/Non538_Input/ct_cd_corresp2.csv')\n",
    "uber_aggr['2014'] = uber_aggr['2014'].merge(ct_nta[['NTACode', 'tract_fips_10']], left_on='GEOID', \n",
    "                                            right_on='tract_fips_10', how='left').drop('tract_fips_10',1)\n",
    "\n",
    "#Add airport id\n",
    "airports = {36081033100: 'QNLGA', 36081071600: 'QNJFK', 34013980200: 'NJEWR', 34039039800: 'NJEWR'}\n",
    "uber_aggr['2014'].loc[uber_aggr['2014'].GEOID.isin(airports.keys()), 'NTACode'] = \\\n",
    "uber_aggr['2014'].loc[uber_aggr['2014'].GEOID.isin(airports.keys()), 'GEOID'].map(airports.get)\n",
    "\n",
    "uber_aggr['2014'].loc[(uber_aggr['2014'].NTACode.isnull() == True)].GEOID.astype(str).str[:2].value_counts()"
   ]
  },
  {
   "cell_type": "markdown",
   "metadata": {},
   "source": [
    "## 3. Add total month trips on Uber 2014-2015"
   ]
  },
  {
   "cell_type": "code",
   "execution_count": 69,
   "metadata": {
    "collapsed": true
   },
   "outputs": [],
   "source": [
    "for year, df in uber_aggr.items():\n",
    "    for mth in df.month:\n",
    "        uber_aggr[year].loc[uber_aggr[year].month == mth, 'month_count'] = df.loc[df.month == mth].tripcount.sum()"
   ]
  },
  {
   "cell_type": "code",
   "execution_count": 70,
   "metadata": {
    "collapsed": true
   },
   "outputs": [],
   "source": [
    "for year, df in uber_aggr.items():\n",
    "    df.to_csv('Data/Output/uber_aggr_{}.csv'.format(year))"
   ]
  },
  {
   "cell_type": "markdown",
   "metadata": {},
   "source": [
    "**There are trips with no census tract, there are all in NJ near transport hubs: not homes**"
   ]
  },
  {
   "cell_type": "markdown",
   "metadata": {},
   "source": [
    "# III - Share of uber trips starting outside Manhattan"
   ]
  },
  {
   "cell_type": "code",
   "execution_count": 71,
   "metadata": {
    "collapsed": false,
    "scrolled": false
   },
   "outputs": [
    {
     "data": {
      "image/png": "[encoded data removed]",
      "text/plain": [
       "<matplotlib.figure.Figure at 0x123086410>"
      ]
     },
     "metadata": {},
     "output_type": "display_data"
    }
   ],
   "source": [
    "mn = {}\n",
    "for year, df in uber_aggr.items():\n",
    "    mn[year] = (100.*df.loc[df.NTACode.str[:2] != 'MN'].groupby('month').tripcount.sum()/\n",
    "                df.groupby('month').tripcount.sum())\n",
    "    \n",
    "pl.plot(list(mn['2014']) + [np.nan]*3 + list(mn['2015']))\n",
    "\n",
    "pl.ylabel('Uber trips starting outside MN (%)')\n",
    "pl.xlabel('Weeks');"
   ]
  },
  {
   "cell_type": "code",
   "execution_count": 72,
   "metadata": {
    "collapsed": false
   },
   "outputs": [
    {
     "name": "stdout",
     "output_type": "stream",
     "text": [
      "NJ trip share: 1.30%\n"
     ]
    }
   ],
   "source": [
    "#Share of uber trips from New Jersey\n",
    "print \"NJ trip share: {0:.2f}%\".format(uber_aggr['2014']\n",
    "                                     .loc[uber_aggr['2014'].GEOID.astype(str).str[:2] == '34']\n",
    "                                     .tripcount.sum()*100./uber_aggr['2014'].tripcount.sum())"
   ]
  },
  {
   "cell_type": "code",
   "execution_count": 73,
   "metadata": {
    "collapsed": false
   },
   "outputs": [
    {
     "name": "stdout",
     "output_type": "stream",
     "text": [
      "Nb. of unique NTAs: 190\n"
     ]
    }
   ],
   "source": [
    "#Check number of unique NTAs as origins of trips\n",
    "print \"Nb. of unique NTAs: {}\".format(uber_aggr['2015'].NTACode.nunique())"
   ]
  }
 ],
 "metadata": {
  "kernelspec": {
   "display_name": "Python 2",
   "language": "python",
   "name": "python2"
  },
  "language_info": {
   "codemirror_mode": {
    "name": "ipython",
    "version": 2
   },
   "file_extension": ".py",
   "mimetype": "text/x-python",
   "name": "python",
   "nbconvert_exporter": "python",
   "pygments_lexer": "ipython2",
   "version": "2.7.13"
  }
 },
 "nbformat": 4,
 "nbformat_minor": 0
}
